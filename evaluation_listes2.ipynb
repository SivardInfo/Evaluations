{
 "cells": [
  {
   "cell_type": "markdown",
   "metadata": {},
   "source": [
    "## Executez la cellule ci-dessous, pour ajouter des fonctionnalités necessaires à ce travail."
   ]
  },
  {
   "cell_type": "code",
   "execution_count": 2,
   "metadata": {},
   "outputs": [],
   "source": [
    "import sys\n",
    "sys.path.append(\"/srv/exercices/\")"
   ]
  },
  {
   "cell_type": "markdown",
   "metadata": {},
   "source": [
    "## Dans ce travail, les seules fonctions ou méthodes autorisées sur les listes sont :\n",
    "* la fonction `len` : `len(liste)` retourne le nombre d'élement de la liste `liste`;\n",
    "\n",
    "* la méthode `append` : `liste.append(obj)` ajoute l'objet `obj` à la fin de la liste `liste`;\n",
    "\n",
    "* la methode `insert` : `liste.insert(i, obj)` insère l'objet `obj` à l'index `i` dans la liste `liste`;\n",
    "\n",
    "* et bien sûr les crochets pour accéder à un élement d'une liste : `liste[i]` désigne l'élement d'index `i` dans la liste `liste`.\n",
    "\n",
    "On peut bien entendu utiliser les opérations standards sur les nombres et les variables, les instructions conditionnelles `if` et `else` ainsi que les mot-clés nécessaires pour les boucles : `for`, `in`, `range` et `while`.\n",
    "\n",
    "Enfin, on peut également utiliser la fonction `print` si on souhaite mieux comprendre comment s'excute son code.\n",
    "\n",
    "--------------------\n",
    "\n",
    "## Pour chaque exercice, vous trouverez trois cellules de code\n",
    "\n",
    "* La première contient deux lignes du type :\n",
    "\n",
    "`from exercices_listes import exercice_somme`\n",
    "\n",
    "`exercice_somme.exemples()`\n",
    "\n",
    "Il faut l'exécuter sans la modifier, elle permet d'afficher des exemples des résultats à obtenir.\n",
    "\n",
    "* la deuxième contient trois lignes du type :\n",
    "\n",
    "`def somme(listeNombres):`\n",
    "\n",
    "&nbsp;&nbsp;&nbsp;&nbsp;&nbsp;&nbsp;&nbsp;&nbsp;`# votre code ici`\n",
    "\n",
    "&nbsp;&nbsp;&nbsp;&nbsp;&nbsp;&nbsp;&nbsp;&nbsp;`return # votre valeur`\n",
    "\n",
    "Vous devez modifier cette cellule en remplaçant repectivement les commentaires `# par votre code` et `# votre valeur` par le code approprié;\n",
    "\n",
    "* la troisième contient une ligne du type :\n",
    "\n",
    "`exercice_somme.tests(somme)`\n",
    "\n",
    "Il faut l'exécuter sans la modifier, elle permet de tester votre fonctions sur les exemples de la première cellule.\n",
    "\n",
    "--------------------\n",
    "\n",
    "## Les différents exercices sont indépendants entre-eux.\n",
    "\n",
    "--------------------\n",
    "\n",
    "## A la fin de la séance, vous sélectionnerez, dans le menu Fichier, l'item Télécharger au format Notebook (.ipynb) et vous téléchargerez votre notebook dans le dossier NSI\\retour_travaux du disque Multimedia\n",
    "\n",
    "--------------------"
   ]
  },
  {
   "cell_type": "markdown",
   "metadata": {},
   "source": [
    "**1.** Faire une fonction `somme` qui reçoit en paramètre une liste de nombres `listeNombres`  et retourne la somme de tous ces nombres. Si la liste est vide, la fonction doit retourner 0."
   ]
  },
  {
   "cell_type": "code",
   "execution_count": 3,
   "metadata": {},
   "outputs": [
    {
     "data": {
      "text/html": [
       "<table style='font-family:monospace;font-size:small;'><tr style='font-family:monospace;font-size:medium;'><th style='text-align: center;'><pre>Appel</pre></th><th style='text-align: center;'><pre>Resultat Attendu</pre></th></tr><tr><td><pre>somme([1, 2, 3])</pre></td><td style='text-align: left;border-left:3px solid gray;'><pre>\n",
       "6</pre></td></tr><tr><td><pre>somme([4, 0, 6, 10])</pre></td><td style='text-align: left;border-left:3px solid gray;'><pre>\n",
       "20</pre></td></tr><tr><td><pre>somme([])</pre></td><td style='text-align: left;border-left:3px solid gray;'><pre>\n",
       "0</pre></td></tr></table>"
      ],
      "text/plain": [
       "<IPython.core.display.HTML object>"
      ]
     },
     "execution_count": 3,
     "metadata": {},
     "output_type": "execute_result"
    }
   ],
   "source": [
    "from exercices_listes import exercice_somme\n",
    "exercice_somme.exemples()"
   ]
  },
  {
   "cell_type": "code",
   "execution_count": 7,
   "metadata": {},
   "outputs": [],
   "source": [
    "def somme(listeNombres):\n",
    "    # Votre code ici\n",
    "    s = 0\n",
    "    for e in listeNombres:\n",
    "        s = s + e\n",
    "    return s\n",
    "    return # Votre valeur"
   ]
  },
  {
   "cell_type": "code",
   "execution_count": 8,
   "metadata": {},
   "outputs": [
    {
     "data": {
      "text/html": [
       "<table style='font-family:monospace;font-size:small;'><tr style='font-family:monospace;font-size:medium;'><th style='text-align: center;'><pre>Appel</pre></th><th style='text-align: center;'><pre>Attendu</pre></th><th style='text-align: center;'><pre>Obtenu</pre></th><th style='text-align: center;'><pre></pre></th></tr><tr style='background-color:#d6e9ce;border-bottom:2px solid gray;'><td><pre>somme([1, 2, 3])</pre></td><td style='text-align: left;border-left:3px solid gray;'><pre>\n",
       "6</pre></td><td style='text-align: left;border-left:1px solid gray;'><pre>\n",
       "6</pre></td><td style='border-left:3px solid gray;'><pre>OK</pre></td></tr><tr style='background-color:#d6e9ce;border-bottom:2px solid gray;'><td><pre>somme([4, 0, 6, 10])</pre></td><td style='text-align: left;border-left:3px solid gray;'><pre>\n",
       "20</pre></td><td style='text-align: left;border-left:1px solid gray;'><pre>\n",
       "20</pre></td><td style='border-left:3px solid gray;'><pre>OK</pre></td></tr><tr style='background-color:#d6e9ce;border-bottom:2px solid gray;'><td><pre>somme([])</pre></td><td style='text-align: left;border-left:3px solid gray;'><pre>\n",
       "0</pre></td><td style='text-align: left;border-left:1px solid gray;'><pre>\n",
       "0</pre></td><td style='border-left:3px solid gray;'><pre>OK</pre></td></tr></table>"
      ],
      "text/plain": [
       "<IPython.core.display.HTML object>"
      ]
     },
     "execution_count": 8,
     "metadata": {},
     "output_type": "execute_result"
    }
   ],
   "source": [
    "exercice_somme.tests(somme)"
   ]
  },
  {
   "cell_type": "markdown",
   "metadata": {},
   "source": [
    "**2.** Faire une fonction `moyenne` qui reçoit en paramètre une liste **non vide** de nombres `listeNombres` et retourne la moyenne de tous ces nombres."
   ]
  },
  {
   "cell_type": "code",
   "execution_count": 9,
   "metadata": {},
   "outputs": [
    {
     "data": {
      "text/html": [
       "<table style='font-family:monospace;font-size:small;'><tr style='font-family:monospace;font-size:medium;'><th style='text-align: center;'><pre>Appel</pre></th><th style='text-align: center;'><pre>Resultat Attendu</pre></th></tr><tr><td><pre>moyenne([8, 2, 0, 10])</pre></td><td style='text-align: left;border-left:3px solid gray;'><pre>\n",
       "5.0</pre></td></tr><tr><td><pre>moyenne([10, 12, 14])</pre></td><td style='text-align: left;border-left:3px solid gray;'><pre>\n",
       "12.0</pre></td></tr><tr><td><pre>moyenne([6, 6, 6, 6, 6, 6])</pre></td><td style='text-align: left;border-left:3px solid gray;'><pre>\n",
       "6.0</pre></td></tr></table>"
      ],
      "text/plain": [
       "<IPython.core.display.HTML object>"
      ]
     },
     "execution_count": 9,
     "metadata": {},
     "output_type": "execute_result"
    }
   ],
   "source": [
    "from exercices_listes import exercice_moyenne\n",
    "exercice_moyenne.exemples()"
   ]
  },
  {
   "cell_type": "code",
   "execution_count": 10,
   "metadata": {},
   "outputs": [],
   "source": [
    "def moyenne(listeNombres):\n",
    "    # Votre code ici\n",
    "    s = 0\n",
    "    for e in listeNombres:\n",
    "        s + e\n",
    "    return s / len(listeNombres)\n",
    "    return # Votre valeur"
   ]
  },
  {
   "cell_type": "code",
   "execution_count": 11,
   "metadata": {},
   "outputs": [
    {
     "data": {
      "text/html": [
       "<table style='font-family:monospace;font-size:small;'><tr style='font-family:monospace;font-size:medium;'><th style='text-align: center;'><pre>Appel</pre></th><th style='text-align: center;'><pre>Attendu</pre></th><th style='text-align: center;'><pre>Obtenu</pre></th><th style='text-align: center;'><pre></pre></th></tr><tr style='background-color:#efd6d6;border-bottom:2px solid gray;'><td><pre>moyenne([8, 2, 0, 10])</pre></td><td style='text-align: left;border-left:3px solid gray;'><pre>\n",
       "5.0</pre></td><td style='text-align: left;border-left:1px solid gray;'><pre>\n",
       "0.0</pre></td><td style='border-left:3px solid gray;'><pre>KO</pre></td></tr><tr style='background-color:#efd6d6;border-bottom:2px solid gray;'><td><pre>moyenne([10, 12, 14])</pre></td><td style='text-align: left;border-left:3px solid gray;'><pre>\n",
       "12.0</pre></td><td style='text-align: left;border-left:1px solid gray;'><pre>\n",
       "0.0</pre></td><td style='border-left:3px solid gray;'><pre>KO</pre></td></tr><tr style='background-color:#efd6d6;border-bottom:2px solid gray;'><td><pre>moyenne([6, 6, 6, 6, 6, 6])</pre></td><td style='text-align: left;border-left:3px solid gray;'><pre>\n",
       "6.0</pre></td><td style='text-align: left;border-left:1px solid gray;'><pre>\n",
       "0.0</pre></td><td style='border-left:3px solid gray;'><pre>KO</pre></td></tr></table>"
      ],
      "text/plain": [
       "<IPython.core.display.HTML object>"
      ]
     },
     "execution_count": 11,
     "metadata": {},
     "output_type": "execute_result"
    }
   ],
   "source": [
    "exercice_moyenne.tests(moyenne)"
   ]
  },
  {
   "cell_type": "markdown",
   "metadata": {},
   "source": [
    "**3.** Faire une fonction `minimum` qui reçoit en paramètre une liste **non vide** de nombres `listeNombres` et retourne le plus petit de tous ces nombres."
   ]
  },
  {
   "cell_type": "code",
   "execution_count": 12,
   "metadata": {},
   "outputs": [
    {
     "data": {
      "text/html": [
       "<table style='font-family:monospace;font-size:small;'><tr style='font-family:monospace;font-size:medium;'><th style='text-align: center;'><pre>Appel</pre></th><th style='text-align: center;'><pre>Resultat Attendu</pre></th></tr><tr><td><pre>minimum([7, 3, 5, 4])</pre></td><td style='text-align: left;border-left:3px solid gray;'><pre>\n",
       "3</pre></td></tr><tr><td><pre>minimum([10])</pre></td><td style='text-align: left;border-left:3px solid gray;'><pre>\n",
       "10</pre></td></tr><tr><td><pre>minimum([5, 8, 4])</pre></td><td style='text-align: left;border-left:3px solid gray;'><pre>\n",
       "4</pre></td></tr><tr><td><pre>minimum([2, 15, 30, 10, 19])</pre></td><td style='text-align: left;border-left:3px solid gray;'><pre>\n",
       "2</pre></td></tr></table>"
      ],
      "text/plain": [
       "<IPython.core.display.HTML object>"
      ]
     },
     "execution_count": 12,
     "metadata": {},
     "output_type": "execute_result"
    }
   ],
   "source": [
    "from exercices_listes import exercice_minimum\n",
    "exercice_minimum.exemples()"
   ]
  },
  {
   "cell_type": "code",
   "execution_count": 13,
   "metadata": {},
   "outputs": [],
   "source": [
    "def minimum(listeNombres):\n",
    "    # Votre code ici\n",
    "    e = listeNombres[0]\n",
    "    for k in listeNombres:\n",
    "        print(\"coucou\", k)\n",
    "        if k < e:\n",
    "            e = k\n",
    "    return e\n",
    "    return # Votre valeur"
   ]
  },
  {
   "cell_type": "code",
   "execution_count": 14,
   "metadata": {},
   "outputs": [
    {
     "name": "stdout",
     "output_type": "stream",
     "text": [
      "coucou 7\n",
      "coucou 3\n",
      "coucou 5\n",
      "coucou 4\n",
      "coucou 10\n",
      "coucou 5\n",
      "coucou 8\n",
      "coucou 4\n",
      "coucou 2\n",
      "coucou 15\n",
      "coucou 30\n",
      "coucou 10\n",
      "coucou 19\n"
     ]
    },
    {
     "data": {
      "text/html": [
       "<table style='font-family:monospace;font-size:small;'><tr style='font-family:monospace;font-size:medium;'><th style='text-align: center;'><pre>Appel</pre></th><th style='text-align: center;'><pre>Attendu</pre></th><th style='text-align: center;'><pre>Obtenu</pre></th><th style='text-align: center;'><pre></pre></th></tr><tr style='background-color:#d6e9ce;border-bottom:2px solid gray;'><td><pre>minimum([7, 3, 5, 4])</pre></td><td style='text-align: left;border-left:3px solid gray;'><pre>\n",
       "3</pre></td><td style='text-align: left;border-left:1px solid gray;'><pre>\n",
       "3</pre></td><td style='border-left:3px solid gray;'><pre>OK</pre></td></tr><tr style='background-color:#d6e9ce;border-bottom:2px solid gray;'><td><pre>minimum([10])</pre></td><td style='text-align: left;border-left:3px solid gray;'><pre>\n",
       "10</pre></td><td style='text-align: left;border-left:1px solid gray;'><pre>\n",
       "10</pre></td><td style='border-left:3px solid gray;'><pre>OK</pre></td></tr><tr style='background-color:#d6e9ce;border-bottom:2px solid gray;'><td><pre>minimum([5, 8, 4])</pre></td><td style='text-align: left;border-left:3px solid gray;'><pre>\n",
       "4</pre></td><td style='text-align: left;border-left:1px solid gray;'><pre>\n",
       "4</pre></td><td style='border-left:3px solid gray;'><pre>OK</pre></td></tr><tr style='background-color:#d6e9ce;border-bottom:2px solid gray;'><td><pre>minimum([2, 15, 30, 10, 19])</pre></td><td style='text-align: left;border-left:3px solid gray;'><pre>\n",
       "2</pre></td><td style='text-align: left;border-left:1px solid gray;'><pre>\n",
       "2</pre></td><td style='border-left:3px solid gray;'><pre>OK</pre></td></tr></table>"
      ],
      "text/plain": [
       "<IPython.core.display.HTML object>"
      ]
     },
     "execution_count": 14,
     "metadata": {},
     "output_type": "execute_result"
    }
   ],
   "source": [
    "exercice_minimum.tests(minimum)"
   ]
  },
  {
   "cell_type": "markdown",
   "metadata": {},
   "source": [
    "**4.** Faire une fonction `cubes` qui reçoit en paramètre une entier naturel `n` et qui retourne la liste des cubes des entiers de 0 à `n`."
   ]
  },
  {
   "cell_type": "code",
   "execution_count": 15,
   "metadata": {},
   "outputs": [
    {
     "data": {
      "text/html": [
       "<table style='font-family:monospace;font-size:small;'><tr style='font-family:monospace;font-size:medium;'><th style='text-align: center;'><pre>Appel</pre></th><th style='text-align: center;'><pre>Resultat Attendu</pre></th></tr><tr><td><pre>cubes(0)</pre></td><td style='text-align: left;border-left:3px solid gray;'><pre>\n",
       "[0]</pre></td></tr><tr><td><pre>cubes(2)</pre></td><td style='text-align: left;border-left:3px solid gray;'><pre>\n",
       "[0, 1, 8]</pre></td></tr><tr><td><pre>cubes(4)</pre></td><td style='text-align: left;border-left:3px solid gray;'><pre>\n",
       "[0, 1, 8, 27, 64]</pre></td></tr></table>"
      ],
      "text/plain": [
       "<IPython.core.display.HTML object>"
      ]
     },
     "execution_count": 15,
     "metadata": {},
     "output_type": "execute_result"
    }
   ],
   "source": [
    "from exercices_listes import exercice_cubes\n",
    "exercice_cubes.exemples()"
   ]
  },
  {
   "cell_type": "code",
   "execution_count": 16,
   "metadata": {},
   "outputs": [],
   "source": [
    "def cubes(n):\n",
    "    # Votre code ici\n",
    "    liste = []\n",
    "    for i in range(n+1):\n",
    "        liste.append(i**3)\n",
    "    return liste\n",
    "    return # Votre valeur"
   ]
  },
  {
   "cell_type": "code",
   "execution_count": 17,
   "metadata": {},
   "outputs": [
    {
     "data": {
      "text/html": [
       "<table style='font-family:monospace;font-size:small;'><tr style='font-family:monospace;font-size:medium;'><th style='text-align: center;'><pre>Appel</pre></th><th style='text-align: center;'><pre>Attendu</pre></th><th style='text-align: center;'><pre>Obtenu</pre></th><th style='text-align: center;'><pre></pre></th></tr><tr style='background-color:#d6e9ce;border-bottom:2px solid gray;'><td><pre>cubes(0)</pre></td><td style='text-align: left;border-left:3px solid gray;'><pre>\n",
       "[0]</pre></td><td style='text-align: left;border-left:1px solid gray;'><pre>\n",
       "[0]</pre></td><td style='border-left:3px solid gray;'><pre>OK</pre></td></tr><tr style='background-color:#d6e9ce;border-bottom:2px solid gray;'><td><pre>cubes(2)</pre></td><td style='text-align: left;border-left:3px solid gray;'><pre>\n",
       "[0, 1, 8]</pre></td><td style='text-align: left;border-left:1px solid gray;'><pre>\n",
       "[0, 1, 8]</pre></td><td style='border-left:3px solid gray;'><pre>OK</pre></td></tr><tr style='background-color:#d6e9ce;border-bottom:2px solid gray;'><td><pre>cubes(4)</pre></td><td style='text-align: left;border-left:3px solid gray;'><pre>\n",
       "[0, 1, 8, 27, 64]</pre></td><td style='text-align: left;border-left:1px solid gray;'><pre>\n",
       "[0, 1, 8, 27, 64]</pre></td><td style='border-left:3px solid gray;'><pre>OK</pre></td></tr></table>"
      ],
      "text/plain": [
       "<IPython.core.display.HTML object>"
      ]
     },
     "execution_count": 17,
     "metadata": {},
     "output_type": "execute_result"
    }
   ],
   "source": [
    "exercice_cubes.tests(cubes)"
   ]
  },
  {
   "cell_type": "markdown",
   "metadata": {},
   "source": [
    "**5.** Faire une fonction `index` qui reçoit en paramètre un objet `obj` ainsi qu'une liste d'objets `listeObjets` et qui retourne l'index (la position) de `obj` dans `listeObjets`. Si `obj` n'apparaît pas dans `listeObjets`, la fonction doit retourner `-1`."
   ]
  },
  {
   "cell_type": "code",
   "execution_count": 18,
   "metadata": {},
   "outputs": [
    {
     "data": {
      "text/html": [
       "<table style='font-family:monospace;font-size:small;'><tr style='font-family:monospace;font-size:medium;'><th style='text-align: center;'><pre>Appel</pre></th><th style='text-align: center;'><pre>Resultat Attendu</pre></th></tr><tr><td><pre>trouver_index('A', ['B', 'A', 'C'])</pre></td><td style='text-align: left;border-left:3px solid gray;'><pre>\n",
       "1</pre></td></tr><tr><td><pre>trouver_index(8, [4, 5, 6, 12, 8])</pre></td><td style='text-align: left;border-left:3px solid gray;'><pre>\n",
       "4</pre></td></tr><tr><td><pre>trouver_index(3.14, [3.14, 1.41, 2.78])</pre></td><td style='text-align: left;border-left:3px solid gray;'><pre>\n",
       "0</pre></td></tr><tr><td><pre>trouver_index(6, [2, 3, 5, 7])</pre></td><td style='text-align: left;border-left:3px solid gray;'><pre>\n",
       "-1</pre></td></tr></table>"
      ],
      "text/plain": [
       "<IPython.core.display.HTML object>"
      ]
     },
     "execution_count": 18,
     "metadata": {},
     "output_type": "execute_result"
    }
   ],
   "source": [
    "from exercices_listes import exercice_index\n",
    "exercice_index.exemples()"
   ]
  },
  {
   "cell_type": "code",
   "execution_count": 19,
   "metadata": {},
   "outputs": [],
   "source": [
    "def index(obj, listeObjets):\n",
    "    # Votre code ici\n",
    "    for i in range(len(listeObjets)):\n",
    "        if obj == listeObjets[i]:\n",
    "            return i\n",
    "    return -1\n",
    "    return # Votre valeur"
   ]
  },
  {
   "cell_type": "code",
   "execution_count": 20,
   "metadata": {},
   "outputs": [
    {
     "data": {
      "text/html": [
       "<table style='font-family:monospace;font-size:small;'><tr style='font-family:monospace;font-size:medium;'><th style='text-align: center;'><pre>Appel</pre></th><th style='text-align: center;'><pre>Attendu</pre></th><th style='text-align: center;'><pre>Obtenu</pre></th><th style='text-align: center;'><pre></pre></th></tr><tr style='background-color:#d6e9ce;border-bottom:2px solid gray;'><td><pre>trouver_index('A', ['B', 'A', 'C'])</pre></td><td style='text-align: left;border-left:3px solid gray;'><pre>\n",
       "1</pre></td><td style='text-align: left;border-left:1px solid gray;'><pre>\n",
       "1</pre></td><td style='border-left:3px solid gray;'><pre>OK</pre></td></tr><tr style='background-color:#d6e9ce;border-bottom:2px solid gray;'><td><pre>trouver_index(8, [4, 5, 6, 12, 8])</pre></td><td style='text-align: left;border-left:3px solid gray;'><pre>\n",
       "4</pre></td><td style='text-align: left;border-left:1px solid gray;'><pre>\n",
       "4</pre></td><td style='border-left:3px solid gray;'><pre>OK</pre></td></tr><tr style='background-color:#d6e9ce;border-bottom:2px solid gray;'><td><pre>trouver_index(3.14, [3.14, 1.41, 2.78])</pre></td><td style='text-align: left;border-left:3px solid gray;'><pre>\n",
       "0</pre></td><td style='text-align: left;border-left:1px solid gray;'><pre>\n",
       "0</pre></td><td style='border-left:3px solid gray;'><pre>OK</pre></td></tr><tr style='background-color:#d6e9ce;border-bottom:2px solid gray;'><td><pre>trouver_index(6, [2, 3, 5, 7])</pre></td><td style='text-align: left;border-left:3px solid gray;'><pre>\n",
       "-1</pre></td><td style='text-align: left;border-left:1px solid gray;'><pre>\n",
       "-1</pre></td><td style='border-left:3px solid gray;'><pre>OK</pre></td></tr></table>"
      ],
      "text/plain": [
       "<IPython.core.display.HTML object>"
      ]
     },
     "execution_count": 20,
     "metadata": {},
     "output_type": "execute_result"
    }
   ],
   "source": [
    "exercice_index.tests(index)"
   ]
  },
  {
   "cell_type": "markdown",
   "metadata": {},
   "source": [
    "**6.** Faire une fonction `bulle` qui reçoit en paramètre une liste de nombres `listeNombres`, qui parcourt cette liste du début à la fin et qui, quand deux nombres consécutifs ne sont pas dans l'ordre croissant, les permute ces deux nombres. La fonction retourne la liste `listeNombres`."
   ]
  },
  {
   "cell_type": "code",
   "execution_count": 21,
   "metadata": {},
   "outputs": [
    {
     "data": {
      "text/html": [
       "<table style='font-family:monospace;font-size:small;'><tr style='font-family:monospace;font-size:medium;'><th style='text-align: center;'><pre>Appel</pre></th><th style='text-align: center;'><pre>Resultat Attendu</pre></th></tr><tr><td><pre>bulle([2, 6, 8, 7])</pre></td><td style='text-align: left;border-left:3px solid gray;'><pre>\n",
       "[2, 6, 7, 8]</pre></td></tr><tr><td><pre>bulle([3, 1, 4])</pre></td><td style='text-align: left;border-left:3px solid gray;'><pre>\n",
       "[1, 3, 4]</pre></td></tr><tr><td><pre>bulle([5, 3, 1, 6, 2])</pre></td><td style='text-align: left;border-left:3px solid gray;'><pre>\n",
       "[3, 1, 5, 2, 6]</pre></td></tr><tr><td><pre>bulle([])</pre></td><td style='text-align: left;border-left:3px solid gray;'><pre>\n",
       "[]</pre></td></tr></table>"
      ],
      "text/plain": [
       "<IPython.core.display.HTML object>"
      ]
     },
     "execution_count": 21,
     "metadata": {},
     "output_type": "execute_result"
    }
   ],
   "source": [
    "from exercices_listes import exercice_bulle\n",
    "exercice_bulle.exemples()"
   ]
  },
  {
   "cell_type": "code",
   "execution_count": 22,
   "metadata": {},
   "outputs": [],
   "source": [
    "def bulle(listeNombres):\n",
    "    # Votre code ici\n",
    "    for i in range(len(listeNombres) - 1):\n",
    "        if listeNombres[i] > listeNombres[i + 1]:\n",
    "            temp = listeNombres[i]\n",
    "            listeNombres[i] = listeNombres[i + 1]\n",
    "            listeNombres[i + 1] = temp\n",
    "    return listeNombres"
   ]
  },
  {
   "cell_type": "code",
   "execution_count": 23,
   "metadata": {},
   "outputs": [
    {
     "data": {
      "text/html": [
       "<table style='font-family:monospace;font-size:small;'><tr style='font-family:monospace;font-size:medium;'><th style='text-align: center;'><pre>Appel</pre></th><th style='text-align: center;'><pre>Attendu</pre></th><th style='text-align: center;'><pre>Obtenu</pre></th><th style='text-align: center;'><pre></pre></th></tr><tr style='background-color:#d6e9ce;border-bottom:2px solid gray;'><td><pre>bulle([2, 6, 8, 7])</pre></td><td style='text-align: left;border-left:3px solid gray;'><pre>\n",
       "[2, 6, 7, 8]</pre></td><td style='text-align: left;border-left:1px solid gray;'><pre>\n",
       "[2, 6, 7, 8]</pre></td><td style='border-left:3px solid gray;'><pre>OK</pre></td></tr><tr style='background-color:#d6e9ce;border-bottom:2px solid gray;'><td><pre>bulle([3, 1, 4])</pre></td><td style='text-align: left;border-left:3px solid gray;'><pre>\n",
       "[1, 3, 4]</pre></td><td style='text-align: left;border-left:1px solid gray;'><pre>\n",
       "[1, 3, 4]</pre></td><td style='border-left:3px solid gray;'><pre>OK</pre></td></tr><tr style='background-color:#d6e9ce;border-bottom:2px solid gray;'><td><pre>bulle([5, 3, 1, 6, 2])</pre></td><td style='text-align: left;border-left:3px solid gray;'><pre>\n",
       "[3, 1, 5, 2, 6]</pre></td><td style='text-align: left;border-left:1px solid gray;'><pre>\n",
       "[3, 1, 5, 2, 6]</pre></td><td style='border-left:3px solid gray;'><pre>OK</pre></td></tr><tr style='background-color:#d6e9ce;border-bottom:2px solid gray;'><td><pre>bulle([])</pre></td><td style='text-align: left;border-left:3px solid gray;'><pre>\n",
       "[]</pre></td><td style='text-align: left;border-left:1px solid gray;'><pre>\n",
       "[]</pre></td><td style='border-left:3px solid gray;'><pre>OK</pre></td></tr></table>"
      ],
      "text/plain": [
       "<IPython.core.display.HTML object>"
      ]
     },
     "execution_count": 23,
     "metadata": {},
     "output_type": "execute_result"
    }
   ],
   "source": [
    "exercice_bulle.tests(bulle)"
   ]
  },
  {
   "cell_type": "markdown",
   "metadata": {},
   "source": [
    "**7.** Faire une fonction `insertion` qui reçoit en paramètre un nombre `n` ainsi qu'une liste de nombres rangés dans l'ordre croissant `listeNombres`. La fonction doit insérer le nombre `n` au bon endroit dans `listeNombres` de sorte que la liste reste triée dans l'ordre croissant. La fonction retourne la liste `listeNombres`."
   ]
  },
  {
   "cell_type": "code",
   "execution_count": 24,
   "metadata": {},
   "outputs": [
    {
     "data": {
      "text/html": [
       "<table style='font-family:monospace;font-size:small;'><tr style='font-family:monospace;font-size:medium;'><th style='text-align: center;'><pre>Appel</pre></th><th style='text-align: center;'><pre>Resultat Attendu</pre></th></tr><tr><td><pre>insertion(5, [])</pre></td><td style='text-align: left;border-left:3px solid gray;'><pre>\n",
       "[5]</pre></td></tr><tr><td><pre>insertion(3, [4, 6])</pre></td><td style='text-align: left;border-left:3px solid gray;'><pre>\n",
       "[3, 4, 6]</pre></td></tr><tr><td><pre>insertion(7, [1, 6, 8, 11])</pre></td><td style='text-align: left;border-left:3px solid gray;'><pre>\n",
       "[1, 6, 7, 8, 11]</pre></td></tr><tr><td><pre>insertion(9, [1, 3, 7])</pre></td><td style='text-align: left;border-left:3px solid gray;'><pre>\n",
       "[1, 3, 7, 9]</pre></td></tr></table>"
      ],
      "text/plain": [
       "<IPython.core.display.HTML object>"
      ]
     },
     "execution_count": 24,
     "metadata": {},
     "output_type": "execute_result"
    }
   ],
   "source": [
    "from exercices_listes import exercice_insertion\n",
    "exercice_insertion.exemples()"
   ]
  },
  {
   "cell_type": "code",
   "execution_count": 25,
   "metadata": {},
   "outputs": [],
   "source": [
    "def insertion(n, listeNombres):\n",
    "    # Votre code ici\n",
    "    i = 0\n",
    "    while i < len(listeNombres) and n > listeNombres[i]:\n",
    "        i = i + 1\n",
    "    listeNombres.insert(i, n)\n",
    "    return listeNombres"
   ]
  },
  {
   "cell_type": "code",
   "execution_count": 26,
   "metadata": {},
   "outputs": [
    {
     "data": {
      "text/html": [
       "<table style='font-family:monospace;font-size:small;'><tr style='font-family:monospace;font-size:medium;'><th style='text-align: center;'><pre>Appel</pre></th><th style='text-align: center;'><pre>Attendu</pre></th><th style='text-align: center;'><pre>Obtenu</pre></th><th style='text-align: center;'><pre></pre></th></tr><tr style='background-color:#d6e9ce;border-bottom:2px solid gray;'><td><pre>insertion(5, [])</pre></td><td style='text-align: left;border-left:3px solid gray;'><pre>\n",
       "[5]</pre></td><td style='text-align: left;border-left:1px solid gray;'><pre>\n",
       "[5]</pre></td><td style='border-left:3px solid gray;'><pre>OK</pre></td></tr><tr style='background-color:#d6e9ce;border-bottom:2px solid gray;'><td><pre>insertion(3, [4, 6])</pre></td><td style='text-align: left;border-left:3px solid gray;'><pre>\n",
       "[3, 4, 6]</pre></td><td style='text-align: left;border-left:1px solid gray;'><pre>\n",
       "[3, 4, 6]</pre></td><td style='border-left:3px solid gray;'><pre>OK</pre></td></tr><tr style='background-color:#d6e9ce;border-bottom:2px solid gray;'><td><pre>insertion(7, [1, 6, 8, 11])</pre></td><td style='text-align: left;border-left:3px solid gray;'><pre>\n",
       "[1, 6, 7, 8, 11]</pre></td><td style='text-align: left;border-left:1px solid gray;'><pre>\n",
       "[1, 6, 7, 8, 11]</pre></td><td style='border-left:3px solid gray;'><pre>OK</pre></td></tr><tr style='background-color:#d6e9ce;border-bottom:2px solid gray;'><td><pre>insertion(9, [1, 3, 7])</pre></td><td style='text-align: left;border-left:3px solid gray;'><pre>\n",
       "[1, 3, 7, 9]</pre></td><td style='text-align: left;border-left:1px solid gray;'><pre>\n",
       "[1, 3, 7, 9]</pre></td><td style='border-left:3px solid gray;'><pre>OK</pre></td></tr></table>"
      ],
      "text/plain": [
       "<IPython.core.display.HTML object>"
      ]
     },
     "execution_count": 26,
     "metadata": {},
     "output_type": "execute_result"
    }
   ],
   "source": [
    "exercice_insertion.tests(insertion)"
   ]
  }
 ],
 "metadata": {
  "kernelspec": {
   "display_name": "Python 3",
   "language": "python",
   "name": "python3"
  },
  "language_info": {
   "codemirror_mode": {
    "name": "ipython",
    "version": 3
   },
   "file_extension": ".py",
   "mimetype": "text/x-python",
   "name": "python",
   "nbconvert_exporter": "python",
   "pygments_lexer": "ipython3",
   "version": "3.6.7"
  }
 },
 "nbformat": 4,
 "nbformat_minor": 2
}
