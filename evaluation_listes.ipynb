{
 "cells": [
  {
   "cell_type": "markdown",
   "metadata": {},
   "source": [
    "## Dans ce travail, les seules fonctions ou méthodes autorisées sur les listes sont :\n",
    "* la fonction `len` : `len(liste)` retourne le nombre d'élement de la liste `liste`;\n",
    "\n",
    "* la méthode `append` : `liste.append(obj)` ajoute l'objet `obj` à la fin de la liste `liste`;\n",
    "\n",
    "* la methode `insert` : `liste.insert(i, obj)` insère l'objet `obj` à l'index `i` dans la liste `liste`;\n",
    "\n",
    "* et bien sûr les crochets pour accéder à un élement d'une liste : `liste[i]` désigne l'élement d'index `i` dans la liste `liste`.\n",
    "\n",
    "On peut bien entendu utiliser les opérations standards sur les nombres et les variables, les instructions conditionnelles `if` et `else` ainsi que les mot-clés nécessaires pour les boucles : `for`, `in`, `range` et `while`.\n",
    "\n",
    "Enfin, on peut également utiliser la fonction `print` si on souhaite mieux comprendre comment s'excute son code.\n",
    "\n",
    "\n",
    "## Vous trouverez deux types de cellule de code :\n",
    "\n",
    "* des cellules comportant un commentaire `# Votre code ici` et éventuellement un commentaire `# Votre valeur`, commentaires que vous devrez remplacer repectivement par votre code ainsi que la valeur que la fonction doit retourner;\n",
    "\n",
    "* des cellules comportant des instructions `assert` qu'il ne faut pas modifier, elles vous serviront à tester si votre code fonctionne bien.\n",
    "\n",
    "\n",
    "\n",
    "## Les différents exercices sont indépendants entre-eux.\n",
    "\n",
    "## A la fin de la séance, vous sélectionnerez, dans le menu Fichier, l'item Télécharger au format Notebook (.ipynb) et vous téléchargerez votre notebook dans le dossier NSI\\retour_travaux du disque Multimedia\n",
    "\n",
    "--------------------"
   ]
  },
  {
   "cell_type": "markdown",
   "metadata": {},
   "source": [
    "**1.** Faire une fonction `somme` qui reçoit en paramètre une liste de nombres `listeNombres`  et retourne la somme de tous ces nombres. Si la liste est vide, la fonction doit retourner 0."
   ]
  },
  {
   "cell_type": "code",
   "execution_count": 1,
   "metadata": {},
   "outputs": [],
   "source": [
    "def somme(listeNombres):\n",
    "    # Votre code ici\n",
    "    s = 0\n",
    "    for e in listeNombres:\n",
    "        s = s + e\n",
    "    return s\n",
    "    return # Votre valeur"
   ]
  },
  {
   "cell_type": "code",
   "execution_count": 2,
   "metadata": {},
   "outputs": [
    {
     "name": "stdout",
     "output_type": "stream",
     "text": [
      "Tests passés avec succès\n"
     ]
    }
   ],
   "source": [
    "assert somme([8, 2, 0, 10]) == 20, \"Votre fonction retourne \" + str(somme([8, 2, 0, 10]))\n",
    "assert somme([]) == 0, \"Votre fonction retourne \" + str(somme([]))\n",
    "print(\"Tests passés avec succès\")"
   ]
  },
  {
   "cell_type": "markdown",
   "metadata": {},
   "source": [
    "**2.** Faire une fonction `moyenne` qui reçoit en paramètre une liste **non vide** de nombres `listeNombres` et retourne la moyenne de tous ces nombres."
   ]
  },
  {
   "cell_type": "code",
   "execution_count": 3,
   "metadata": {},
   "outputs": [],
   "source": [
    "def moyenne(listeNombres):\n",
    "    # Votre code ici\n",
    "    s = 0\n",
    "    for e in listeNombres:\n",
    "        s = s + e\n",
    "    return s / len(listeNombres)\n",
    "    return # Votre valeur"
   ]
  },
  {
   "cell_type": "code",
   "execution_count": 4,
   "metadata": {},
   "outputs": [
    {
     "name": "stdout",
     "output_type": "stream",
     "text": [
      "Tests passés avec succès\n"
     ]
    }
   ],
   "source": [
    "assert moyenne([8, 2, 0, 10]) == 5, \"Votre fonction retourne \" + str(moyenne([8, 2, 0, 10]))\n",
    "assert moyenne([10, 12, 14]) == 12, \"Votre fonction retourne \" + str(moyenne([10, 12, 14]))\n",
    "print(\"Tests passés avec succès\")"
   ]
  },
  {
   "cell_type": "markdown",
   "metadata": {},
   "source": [
    "**3.** Faire une fonction `minimum` qui reçoit en paramètre une liste **non vide** de nombres `listeNombres` et retourne le plus petit de tous ces nombres."
   ]
  },
  {
   "cell_type": "code",
   "execution_count": 5,
   "metadata": {},
   "outputs": [],
   "source": [
    "def minimum(listeNombres):\n",
    "    # Votre code ici\n",
    "    e = listeNombres[0]\n",
    "    for k in listeNombres:\n",
    "        if k < e:\n",
    "            e = k\n",
    "    return e\n",
    "    return # Votre valeur"
   ]
  },
  {
   "cell_type": "code",
   "execution_count": 6,
   "metadata": {},
   "outputs": [
    {
     "name": "stdout",
     "output_type": "stream",
     "text": [
      "Tests passés avec succès\n"
     ]
    }
   ],
   "source": [
    "assert minimum([7, 3, 5, 4]) == 3, \"Votre fonction retourne \" + str(minimum([7, 3, 5, 4]))\n",
    "assert minimum([10]) == 10, \"Votre fonction retourne \" + str(minimum([10]))\n",
    "assert minimum([5, 8, 4]) == 4, \"Votre fonction retourne \" + str(minimum([5, 8, 4]))\n",
    "assert minimum([2, 15, 30, 10, 19]) == 2, \"Votre fonction retourne \" + str(minimum([2, 15, 30, 10, 19]))\n",
    "print(\"Tests passés avec succès\")"
   ]
  },
  {
   "cell_type": "markdown",
   "metadata": {},
   "source": [
    "**4.** Faire une fonction `cubes` qui reçoit en paramètre une entier naturel `n` et qui retourne la liste des cubes des entiers de 0 à `n`."
   ]
  },
  {
   "cell_type": "code",
   "execution_count": 7,
   "metadata": {},
   "outputs": [],
   "source": [
    "def cubes(n):\n",
    "    # Votre code ici\n",
    "    liste = []\n",
    "    for i in range(n+1):\n",
    "        liste.append(i**3)\n",
    "    return liste\n",
    "    return # Votre valeur"
   ]
  },
  {
   "cell_type": "code",
   "execution_count": 8,
   "metadata": {},
   "outputs": [
    {
     "name": "stdout",
     "output_type": "stream",
     "text": [
      "Tests passés avec succès\n"
     ]
    }
   ],
   "source": [
    "assert cubes(0) == [0], \"Votre fonction retourne \" + str(cubes(0))\n",
    "assert cubes(2) == [0, 1, 8], \"Votre fonction retourne \" + str(cubes(2))\n",
    "assert cubes(4) == [0, 1, 8, 27, 64], \"Votre fonction retourne \" + str(cubes(4))\n",
    "print(\"Tests passés avec succès\")"
   ]
  },
  {
   "cell_type": "markdown",
   "metadata": {},
   "source": [
    "**5.** Faire une fonction `index` qui reçoit en paramètre un objet `obj` ainsi qu'une liste d'objets `listeObjets` et qui retourne l'index (la position) de `obj` dans `listeObjets`. Si `obj` n'apparaît pas dans `listeObjets`, la fonction doit retourner `-1`."
   ]
  },
  {
   "cell_type": "code",
   "execution_count": 9,
   "metadata": {},
   "outputs": [],
   "source": [
    "def index(obj, listeObjets):\n",
    "    # Votre code ici\n",
    "    for i in range(len(listeObjets)):\n",
    "        if obj == listeObjets[i]:\n",
    "            return i\n",
    "    return -1\n",
    "    return # Votre valeur"
   ]
  },
  {
   "cell_type": "code",
   "execution_count": 10,
   "metadata": {},
   "outputs": [
    {
     "name": "stdout",
     "output_type": "stream",
     "text": [
      "Tests passés avec succès\n"
     ]
    }
   ],
   "source": [
    "assert index(\"A\", [\"B\", \"A\", \"C\"]) == 1, \"Votre fonction retourne \" + str(index(\"A\", [\"B\", \"A\", \"C\"]))\n",
    "assert index(8, [4, 5, 6, 12, 8]) == 4, \"Votre fonction retourne \" + str(index(8, [4, 5, 6, 12, 8]))\n",
    "assert index(3.14, [3.14, 1.41, 2.78]) == 0, \"Votre fonction retourne \" + str(index(3.14, [3.14, 1.41, 2.78]))\n",
    "assert index(6, [2, 3, 5, 7]) == -1, \"Votre fonction retourne \" + str(index(6, [2, 3, 5, 7]))\n",
    "print(\"Tests passés avec succès\")"
   ]
  },
  {
   "cell_type": "markdown",
   "metadata": {},
   "source": [
    "**6.** Faire une fonction `bulle` qui reçoit en paramètre une liste de nombres `listeNombres`, qui parcourt cette liste du début à la fin et qui, quand deux nombres consécutifs ne sont pas dans l'ordre croissant, les permute ces deux nombres. La fonction retourne la liste `listeNombres`."
   ]
  },
  {
   "cell_type": "code",
   "execution_count": 11,
   "metadata": {},
   "outputs": [],
   "source": [
    "def bulle(listeNombres):\n",
    "    # Votre code ici\n",
    "    for i in range(len(listeNombres) - 1):\n",
    "        if listeNombres[i] > listeNombres[i + 1]:\n",
    "            temp = listeNombres[i]\n",
    "            listeNombres[i] = listeNombres[i + 1]\n",
    "            listeNombres[i + 1] = temp\n",
    "    return listeNombres"
   ]
  },
  {
   "cell_type": "code",
   "execution_count": 12,
   "metadata": {},
   "outputs": [
    {
     "name": "stdout",
     "output_type": "stream",
     "text": [
      "Tests passés avec succès\n"
     ]
    }
   ],
   "source": [
    "assert bulle([2, 6, 8, 7]) == [2, 6, 7, 8], \"Votre fonction retourne \" + str(bulle([2, 6, 8, 7]))\n",
    "assert bulle([3, 1, 4]) == [1, 3, 4], \"Votre fonction retourne \" + str(bulle([3, 1, 4]))\n",
    "assert bulle([5, 3, 1, 6, 2]) == [3, 1, 5, 2, 6], \"Votre fonction retourne \" + str(bulle([5, 3, 1, 6, 2]))\n",
    "assert bulle([]) == [], \"Votre fonction retourne \" + str(bulle([]))\n",
    "print(\"Tests passés avec succès\")"
   ]
  },
  {
   "cell_type": "markdown",
   "metadata": {},
   "source": [
    "**7.** Faire une fonction `insertion` qui reçoit en paramètre un nombre `n` ainsi qu'une liste de nombres rangés dans l'ordre croissant `listeNombres`. La fonction doit insérer le nombre `n` au bon endroit dans `listeNombres` de sorte que la liste reste triée dans l'ordre croissant. La fonction retourne la liste `listeNombres`."
   ]
  },
  {
   "cell_type": "code",
   "execution_count": 13,
   "metadata": {},
   "outputs": [],
   "source": [
    "def insertion(n, listeNombres):\n",
    "    # Votre code ici\n",
    "    i = 0\n",
    "    while i < len(listeNombres) and n > listeNombres[i]:\n",
    "        i = i + 1\n",
    "    listeNombres.insert(i, n)\n",
    "    return listeNombres"
   ]
  },
  {
   "cell_type": "code",
   "execution_count": 14,
   "metadata": {},
   "outputs": [
    {
     "name": "stdout",
     "output_type": "stream",
     "text": [
      "Tests passés avec succès\n"
     ]
    }
   ],
   "source": [
    "assert insertion(5, []) == [5], \"Votre fonction retourne \" + str(insertion(5, []))\n",
    "assert insertion(3, [4, 6]) == [3, 4, 6], \"Votre fonction retourne \" + str(insertion(3, [4, 6]))\n",
    "assert insertion(7, [1, 6, 8, 11]) == [1, 6, 7, 8, 11], \"Votre fonction retourne \" + str(insertion(7, [1, 6, 8, 11]))\n",
    "assert insertion(9, [1, 2, 3]) == [1, 2, 3, 9], \"Votre fonction retourne \" + str(insertion(9, [1, 2, 3]))\n",
    "print(\"Tests passés avec succès\")"
   ]
  }
 ],
 "metadata": {
  "kernelspec": {
   "display_name": "Python 3",
   "language": "python",
   "name": "python3"
  },
  "language_info": {
   "codemirror_mode": {
    "name": "ipython",
    "version": 3
   },
   "file_extension": ".py",
   "mimetype": "text/x-python",
   "name": "python",
   "nbconvert_exporter": "python",
   "pygments_lexer": "ipython3",
   "version": "3.7.3"
  }
 },
 "nbformat": 4,
 "nbformat_minor": 2
}
