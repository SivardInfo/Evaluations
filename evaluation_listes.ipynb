{
 "cells": [
  {
   "cell_type": "markdown",
   "metadata": {},
   "source": [
    "## Executez la cellule ci-dessous, pour ajouter des fonctionnalités nécessaires à ce travail."
   ]
  },
  {
   "cell_type": "code",
   "execution_count": null,
   "metadata": {},
   "outputs": [],
   "source": [
    "import sys\n",
    "sys.path.append(\"/srv/exercices/\")"
   ]
  },
  {
   "cell_type": "markdown",
   "metadata": {},
   "source": [
    "## Dans ce travail, les seules fonctions ou méthodes autorisées sur les listes sont :\n",
    "* la fonction `len` : `len(liste)` retourne le nombre d'élements de la liste `liste`;\n",
    "\n",
    "* la méthode `append` : `liste.append(obj)` ajoute l'objet `obj` à la fin de la liste `liste`;\n",
    "\n",
    "* la methode `insert` : `liste.insert(i, obj)` insère l'objet `obj` à l'index `i` dans la liste `liste`;\n",
    "\n",
    "* et bien sûr les crochets pour accéder à un élement d'une liste : `liste[i]` désigne l'élement d'index `i` dans la liste `liste`.\n",
    "\n",
    "On peut bien entendu utiliser les opérations standards sur les nombres et les variables, les instructions conditionnelles `if` et `else` ainsi que les mot-clés nécessaires pour les boucles : `for`, `in`, `range` et `while`.\n",
    "\n",
    "Enfin, on peut également utiliser la fonction `print` si on souhaite mieux comprendre comment s'excute son code.\n",
    "\n",
    "--------------------\n",
    "\n",
    "## Pour chaque exercice, vous trouverez trois cellules de code\n",
    "\n",
    "* La première contient deux lignes du type :\n",
    "\n",
    "`from exercices_listes import exercice_somme`\n",
    "\n",
    "`exercice_somme.exemples()`\n",
    "\n",
    "Il faut l'exécuter sans la modifier, elle permet d'afficher des exemples des résultats à obtenir.\n",
    "\n",
    "* la deuxième contient trois lignes du type :\n",
    "\n",
    "`def somme(listeNombres):`\n",
    "\n",
    "&nbsp;&nbsp;&nbsp;&nbsp;&nbsp;&nbsp;&nbsp;&nbsp;`# votre code ici`\n",
    "\n",
    "&nbsp;&nbsp;&nbsp;&nbsp;&nbsp;&nbsp;&nbsp;&nbsp;`return # votre valeur`\n",
    "\n",
    "Vous devez modifier cette cellule en remplaçant repectivement les commentaires `# par votre code` et `# votre valeur` par le code approprié;\n",
    "\n",
    "* la troisième contient une ligne du type :\n",
    "\n",
    "`exercice_somme.tests(somme)`\n",
    "\n",
    "Il faut l'exécuter sans la modifier, elle permet de tester votre fonction sur les exemples de la première cellule.\n",
    "\n",
    "--------------------\n",
    "\n",
    "## Les différents exercices sont indépendants entre-eux.\n",
    "\n",
    "--------------------\n",
    "\n",
    "## A la fin de la séance, vous sélectionnerez, dans le menu Fichier, l'item Télécharger au format Notebook (.ipynb).  Une fois téléchargé, votre fichier devra être renommé \\\"evaluation_NOM_PRENOM.ipynb\\\" et vous le placerez dans le dossier NSI\\\\retour_travaux du disque Multimedia.\n",
    "\n",
    "--------------------"
   ]
  },
  {
   "cell_type": "markdown",
   "metadata": {},
   "source": [
    "**1.** Faire une fonction `somme` qui reçoit en paramètre une liste de nombres `listeNombres`  et retourne la somme de tous ces nombres. Si la liste est vide, la fonction doit retourner 0."
   ]
  },
  {
   "cell_type": "code",
   "execution_count": null,
   "metadata": {},
   "outputs": [],
   "source": [
    "from exercices_listes import exercice_somme\n",
    "exercice_somme.exemples()"
   ]
  },
  {
   "cell_type": "code",
   "execution_count": null,
   "metadata": {},
   "outputs": [],
   "source": [
    "def somme(listeNombres):\n",
    "    # Votre code ici\n",
    "    return # Votre valeur"
   ]
  },
  {
   "cell_type": "code",
   "execution_count": null,
   "metadata": {},
   "outputs": [],
   "source": [
    "exercice_somme.tests(somme)"
   ]
  },
  {
   "cell_type": "markdown",
   "metadata": {},
   "source": [
    "**2.** Faire une fonction `moyenne` qui reçoit en paramètre une liste **non vide** de nombres `listeNombres` et retourne la moyenne de tous ces nombres."
   ]
  },
  {
   "cell_type": "code",
   "execution_count": null,
   "metadata": {},
   "outputs": [],
   "source": [
    "from exercices_listes import exercice_moyenne\n",
    "exercice_moyenne.exemples()"
   ]
  },
  {
   "cell_type": "code",
   "execution_count": null,
   "metadata": {},
   "outputs": [],
   "source": [
    "def moyenne(listeNombres):\n",
    "    # Votre code ici\n",
    "    return # Votre valeur"
   ]
  },
  {
   "cell_type": "code",
   "execution_count": null,
   "metadata": {},
   "outputs": [],
   "source": [
    "exercice_moyenne.tests(moyenne)"
   ]
  },
  {
   "cell_type": "markdown",
   "metadata": {},
   "source": [
    "**3.** Faire une fonction `minimum` qui reçoit en paramètre une liste **non vide** de nombres `listeNombres` et retourne le plus petit de tous ces nombres."
   ]
  },
  {
   "cell_type": "code",
   "execution_count": null,
   "metadata": {},
   "outputs": [],
   "source": [
    "from exercices_listes import exercice_minimum\n",
    "exercice_minimum.exemples()"
   ]
  },
  {
   "cell_type": "code",
   "execution_count": null,
   "metadata": {},
   "outputs": [],
   "source": [
    "def minimum(listeNombres):\n",
    "    # Votre code ici\n",
    "    return # Votre valeur"
   ]
  },
  {
   "cell_type": "code",
   "execution_count": null,
   "metadata": {},
   "outputs": [],
   "source": [
    "exercice_minimum.tests(minimum)"
   ]
  },
  {
   "cell_type": "markdown",
   "metadata": {},
   "source": [
    "**4.** Faire une fonction `cubes` qui reçoit en paramètre une entier naturel `n` et qui retourne la liste des cubes des entiers de 0 à `n`."
   ]
  },
  {
   "cell_type": "code",
   "execution_count": null,
   "metadata": {},
   "outputs": [],
   "source": [
    "from exercices_listes import exercice_cubes\n",
    "exercice_cubes.exemples()"
   ]
  },
  {
   "cell_type": "code",
   "execution_count": null,
   "metadata": {},
   "outputs": [],
   "source": [
    "def cubes(n):\n",
    "    # Votre code ici\n",
    "    return # Votre valeur"
   ]
  },
  {
   "cell_type": "code",
   "execution_count": null,
   "metadata": {},
   "outputs": [],
   "source": [
    "exercice_cubes.tests(cubes)"
   ]
  },
  {
   "cell_type": "markdown",
   "metadata": {},
   "source": [
    "**5.** Faire une fonction `index` qui reçoit en paramètres un objet `obj` ainsi qu'une liste d'objets `listeObjets` et qui retourne l'index (la position) de `obj` dans `listeObjets`. Si `obj` n'apparaît pas dans `listeObjets`, la fonction doit retourner `-1`."
   ]
  },
  {
   "cell_type": "code",
   "execution_count": null,
   "metadata": {},
   "outputs": [],
   "source": [
    "from exercices_listes import exercice_index\n",
    "exercice_index.exemples()"
   ]
  },
  {
   "cell_type": "code",
   "execution_count": null,
   "metadata": {},
   "outputs": [],
   "source": [
    "def index(obj, listeObjets):\n",
    "    # Votre code ici\n",
    "    return # Votre valeur"
   ]
  },
  {
   "cell_type": "code",
   "execution_count": null,
   "metadata": {},
   "outputs": [],
   "source": [
    "exercice_index.tests(index)"
   ]
  },
  {
   "cell_type": "markdown",
   "metadata": {},
   "source": [
    "**6.** Faire une fonction `bulle` qui reçoit en paramètre une liste de nombres `listeNombres`, qui parcourt cette liste du début à la fin et qui, quand deux nombres consécutifs ne sont pas dans l'ordre croissant, permute ces deux nombres. La fonction retourne la liste `listeNombres`."
   ]
  },
  {
   "cell_type": "code",
   "execution_count": null,
   "metadata": {},
   "outputs": [],
   "source": [
    "from exercices_listes import exercice_bulle\n",
    "exercice_bulle.exemples()"
   ]
  },
  {
   "cell_type": "code",
   "execution_count": null,
   "metadata": {},
   "outputs": [],
   "source": [
    "def bulle(listeNombres):\n",
    "    # Votre code ici\n",
    "    return listeNombres"
   ]
  },
  {
   "cell_type": "code",
   "execution_count": null,
   "metadata": {},
   "outputs": [],
   "source": [
    "exercice_bulle.tests(bulle)"
   ]
  },
  {
   "cell_type": "markdown",
   "metadata": {},
   "source": [
    "**7.** Faire une fonction `insertion` qui reçoit en paramètres un nombre `n` ainsi qu'une liste de nombres rangés dans l'ordre croissant `listeNombres`. La fonction doit insérer le nombre `n` au bon endroit dans `listeNombres` de sorte que la liste reste triée dans l'ordre croissant. La fonction retourne la liste `listeNombres`."
   ]
  },
  {
   "cell_type": "code",
   "execution_count": null,
   "metadata": {},
   "outputs": [],
   "source": [
    "from exercices_listes import exercice_insertion\n",
    "exercice_insertion.exemples()"
   ]
  },
  {
   "cell_type": "code",
   "execution_count": null,
   "metadata": {},
   "outputs": [],
   "source": [
    "def insertion(n, listeNombres):\n",
    "    # Votre code ici\n",
    "    return listeNombres"
   ]
  },
  {
   "cell_type": "code",
   "execution_count": null,
   "metadata": {},
   "outputs": [],
   "source": [
    "exercice_insertion.tests(insertion)"
   ]
  }
 ],
 "metadata": {
  "kernelspec": {
   "display_name": "Python 3",
   "language": "python",
   "name": "python3"
  },
  "language_info": {
   "codemirror_mode": {
    "name": "ipython",
    "version": 3
   },
   "file_extension": ".py",
   "mimetype": "text/x-python",
   "name": "python",
   "nbconvert_exporter": "python",
   "pygments_lexer": "ipython3",
   "version": "3.6.7"
  }
 },
 "nbformat": 4,
 "nbformat_minor": 2
}
